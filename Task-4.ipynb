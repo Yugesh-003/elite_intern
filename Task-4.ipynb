{
 "cells": [
  {
   "cell_type": "markdown",
   "id": "40a93dd8",
   "metadata": {},
   "source": [
    "# Movie Recommendation System using Collaborative Filtering\n",
    "\n",
    "This notebook implements a movie recommendation system using collaborative filtering techniques. We'll use the MovieLens dataset to build and evaluate our recommendation model."
   ]
  },
  {
   "cell_type": "markdown",
   "id": "2375e98e",
   "metadata": {},
   "source": [
    "## 1. Import Libraries"
   ]
  },
  {
   "cell_type": "code",
   "execution_count": 65,
   "id": "33cec127",
   "metadata": {},
   "outputs": [],
   "source": [
    "import pandas as pd\n",
    "import numpy as np\n",
    "from surprise import Dataset, Reader, SVD\n",
    "from surprise.model_selection import cross_validate, train_test_split\n",
    "from surprise import accuracy"
   ]
  },
  {
   "cell_type": "markdown",
   "id": "e9c5b1cb",
   "metadata": {},
   "source": [
    "## 2. Load and Explore the Dataset\n",
    "\n",
    "We'll use the MovieLens 100K dataset which contains 100,000 ratings from 943 users on 1,682 movies."
   ]
  },
  {
   "cell_type": "code",
   "execution_count": 66,
   "id": "a7d2ea99",
   "metadata": {},
   "outputs": [],
   "source": [
    "data = Dataset.load_builtin('ml-100k')"
   ]
  },
  {
   "cell_type": "markdown",
   "id": "d6a20de5",
   "metadata": {},
   "source": [
    "## 3. Train-Test Split for Evaluation"
   ]
  },
  {
   "cell_type": "code",
   "execution_count": 67,
   "id": "1ee2f2f6",
   "metadata": {},
   "outputs": [],
   "source": [
    "trainset, testset = train_test_split(data, test_size=0.2)"
   ]
  },
  {
   "cell_type": "markdown",
   "id": "d3c2b859",
   "metadata": {},
   "source": [
    "## 4. Collaborative Filtering Implementation\n",
    "We are using the **SVD (Singular Value Decomposition)**, which is a model-based collaborative filtering method for building the recommender system."
   ]
  },
  {
   "cell_type": "code",
   "execution_count": 68,
   "id": "3c96dbe0",
   "metadata": {},
   "outputs": [],
   "source": [
    "model = SVD()\n",
    "model.fit(trainset)\n",
    "predictions = model.test(testset)"
   ]
  },
  {
   "cell_type": "markdown",
   "id": "8c0875bd",
   "metadata": {},
   "source": [
    "## 5. Generate Recommendations for Sample User"
   ]
  },
  {
   "cell_type": "code",
   "execution_count": 69,
   "metadata": {},
   "outputs": [],
   "source": [
    "from collections import defaultdict\n",
    "\n",
    "def get_top_n(predictions, n=5):\n",
    "    top_n = defaultdict(list)\n",
    "    for uid, iid, true_r, est, _ in predictions:\n",
    "        top_n[uid].append((iid, est))\n",
    "    for uid, user_ratings in top_n.items():\n",
    "        user_ratings.sort(key=lambda x: x[1], reverse=True)\n",
    "        top_n[uid] = user_ratings[:n]\n",
    "    return top_n \n"
   ]
  },
  {
   "cell_type": "code",
   "execution_count": 70,
   "id": "1e1c7bad",
   "metadata": {},
   "outputs": [],
   "source": [
    "movie_names = {}\n",
    "with open('db/ml-100k/u.item', encoding='ISO-8859-1') as f:\n",
    "    for line in f:\n",
    "        parts = line.strip().split('|')\n",
    "        movie_id = parts[0]\n",
    "        movie_title = parts[1]\n",
    "        movie_names[movie_id] = movie_title\n"
   ]
  },
  {
   "cell_type": "code",
   "execution_count": 71,
   "id": "aedf2ac0",
   "metadata": {},
   "outputs": [
    {
     "name": "stdout",
     "output_type": "stream",
     "text": [
      "Movie recommendation for the user 889\n",
      "\n",
      "Rear Window (1954): 4.27\n",
      "One Flew Over the Cuckoo's Nest (1975): 4.26\n",
      "L.A. Confidential (1997): 4.22\n",
      "Manchurian Candidate, The (1962): 4.21\n",
      "Jean de Florette (1986): 4.20\n"
     ]
    }
   ],
   "source": [
    "user_id = '889'\n",
    "print(f\"Movie recommendation for the user {user_id}\\n\")\n",
    "for iid, est_rating in top_n[user_id]:\n",
    "    print(f\"{movie_names[iid]}: {est_rating:.2f}\")\n"
   ]
  },
  {
   "cell_type": "markdown",
   "id": "255a80fa",
   "metadata": {},
   "source": [
    "## 6. Model Evaluation\n",
    "\n",
    "We'll evaluate our recommendation models using common metrics like RMSE (Root Mean Square Error) and MAE (Mean Absolute Error)."
   ]
  },
  {
   "cell_type": "code",
   "execution_count": 72,
   "id": "2183c1c3",
   "metadata": {},
   "outputs": [
    {
     "name": "stdout",
     "output_type": "stream",
     "text": [
      "RMSE: 0.9333\n",
      "RMSE: 0.9332846946707201\n",
      "MAE:  0.7351\n",
      "MAE: 0.7350734366228762\n"
     ]
    }
   ],
   "source": [
    "print(\"RMSE:\", accuracy.rmse(predictions))\n",
    "print(\"MAE:\", accuracy.mae(predictions))\n"
   ]
  },
  {
   "cell_type": "code",
   "execution_count": 73,
   "id": "1aa7a656",
   "metadata": {},
   "outputs": [],
   "source": [
    "def precision_recall_at_k(predictions, k=5, threshold=4.0):\n",
    "    user_est_true = defaultdict(list)\n",
    "    \n",
    "    for uid, iid, true_r, est, _ in predictions:\n",
    "        user_est_true[uid].append((est, true_r))\n",
    "\n",
    "    precisions = {}\n",
    "    recalls = {}\n",
    "\n",
    "    for uid, user_ratings in user_est_true.items():\n",
    "        # Sort by estimated rating\n",
    "        user_ratings.sort(key=lambda x: x[0], reverse=True)\n",
    "        # Top-K\n",
    "        top_k = user_ratings[:k]\n",
    "\n",
    "        # Count relevant items\n",
    "        n_rel = sum((true_r >= threshold) for (_, true_r) in user_ratings)\n",
    "        # Count recommended items that are relevant\n",
    "        n_rec_k = sum((true_r >= threshold) for (_, true_r) in top_k)\n",
    "        # Precision and recall\n",
    "        precisions[uid] = n_rec_k / k\n",
    "        recalls[uid] = n_rec_k / n_rel if n_rel != 0 else 0\n",
    "\n",
    "    avg_precision = sum(prec for prec in precisions.values()) / len(precisions)\n",
    "    avg_recall = sum(rec for rec in recalls.values()) / len(recalls)\n",
    "    return avg_precision, avg_recall\n"
   ]
  },
  {
   "cell_type": "code",
   "execution_count": 74,
   "id": "5224898b",
   "metadata": {},
   "outputs": [
    {
     "name": "stdout",
     "output_type": "stream",
     "text": [
      "Precision@5: 0.6995\n",
      "Recall@5: 0.5145\n",
      "F1@5: 0.5929\n"
     ]
    }
   ],
   "source": [
    "precision, recall = precision_recall_at_k(predictions, k=5, threshold=4.0)\n",
    "f1_score = 2 * (precision * recall) / (precision + recall)\n",
    "\n",
    "print(f\"Precision@5: {precision:.4f}\")\n",
    "print(f\"Recall@5: {recall:.4f}\")\n",
    "print(f\"F1@5: {f1_score:.4f}\")\n",
    "\n"
   ]
  }
 ],
 "metadata": {
  "kernelspec": {
   "display_name": "base",
   "language": "python",
   "name": "python3"
  },
  "language_info": {
   "codemirror_mode": {
    "name": "ipython",
    "version": 3
   },
   "file_extension": ".py",
   "mimetype": "text/x-python",
   "name": "python",
   "nbconvert_exporter": "python",
   "pygments_lexer": "ipython3",
   "version": "3.12.3"
  }
 },
 "nbformat": 4,
 "nbformat_minor": 5
}
