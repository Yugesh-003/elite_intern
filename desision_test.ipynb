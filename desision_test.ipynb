{
 "cells": [
  {
   "cell_type": "code",
   "execution_count": 1,
   "id": "9ce4508f",
   "metadata": {},
   "outputs": [],
   "source": [
    "# Importing the required packages\n",
    "import numpy as np\n",
    "import pandas as pd\n",
    "from sklearn.metrics import confusion_matrix, accuracy_score, classification_report\n",
    "from sklearn.model_selection import train_test_split\n",
    "from sklearn.tree import DecisionTreeClassifier\n",
    "import matplotlib.pyplot as plt\n"
   ]
  },
  {
   "cell_type": "code",
   "execution_count": 3,
   "id": "f79d09f9",
   "metadata": {},
   "outputs": [],
   "source": [
    "# Function to import the dataset\n",
    "def importdata():\n",
    "    balance_data = pd.read_csv(\n",
    "        'https://archive.ics.uci.edu/ml/machine-learning-' +\n",
    "        'databases/balance-scale/balance-scale.data',\n",
    "        sep=',', header=None)\n",
    "\n",
    "    # Displaying dataset information\n",
    "    print(\"Dataset Length: \", len(balance_data))\n",
    "    print(\"Dataset Shape: \", balance_data.shape)\n",
    "    print(\"Dataset: \", balance_data.head())\n",
    "    \n",
    "    return balance_data"
   ]
  },
  {
   "cell_type": "code",
   "execution_count": null,
   "id": "b932c7b1",
   "metadata": {},
   "outputs": [],
   "source": [
    "importdata()"
   ]
  }
 ],
 "metadata": {
  "kernelspec": {
   "display_name": "Python 3",
   "language": "python",
   "name": "python3"
  },
  "language_info": {
   "codemirror_mode": {
    "name": "ipython",
    "version": 3
   },
   "file_extension": ".py",
   "mimetype": "text/x-python",
   "name": "python",
   "nbconvert_exporter": "python",
   "pygments_lexer": "ipython3",
   "version": "3.13.1"
  }
 },
 "nbformat": 4,
 "nbformat_minor": 5
}
