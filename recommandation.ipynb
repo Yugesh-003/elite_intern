{
 "cells": [
  {
   "cell_type": "markdown",
   "metadata": {},
   "source": [
    "# Movie Recommendation System using Collaborative Filtering\n",
    "\n",
    "This notebook implements a movie recommendation system using collaborative filtering techniques. We'll use the MovieLens dataset to build and evaluate our recommendation model."
   ]
  },
  {
   "cell_type": "markdown",
   "metadata": {},
   "source": [
    "## 1. Import Libraries"
   ]
  },
  {
   "cell_type": "code",
   "execution_count": 6,
   "metadata": {},
   "outputs": [],
   "source": [
    "# Import necessary libraries\n",
    "import pandas as pd\n",
    "import numpy as np\n",
    "import matplotlib.pyplot as plt\n",
    "import seaborn as sns\n",
    "from sklearn.model_selection import train_test_split\n",
    "from sklearn.metrics import mean_squared_error, mean_absolute_error\n",
    "from sklearn.metrics.pairwise import cosine_similarity\n",
    "from scipy.sparse.linalg import svds\n",
    "\n",
    "# Set plot style\n",
    "plt.style.use('ggplot')\n",
    "sns.set_style('whitegrid')\n",
    "%matplotlib inline"
   ]
  },
  {
   "cell_type": "markdown",
   "metadata": {},
   "source": [
    "## 2. Load and Explore the Dataset\n",
    "\n",
    "We'll use the MovieLens 100K dataset which contains 100,000 ratings from 943 users on 1,682 movies."
   ]
  },
  {
   "cell_type": "code",
   "execution_count": 7,
   "metadata": {},
   "outputs": [
    {
     "name": "stdout",
     "output_type": "stream",
     "text": [
      "Ratings dataframe:\n"
     ]
    },
    {
     "data": {
      "text/html": [
       "<div>\n",
       "<style scoped>\n",
       "    .dataframe tbody tr th:only-of-type {\n",
       "        vertical-align: middle;\n",
       "    }\n",
       "\n",
       "    .dataframe tbody tr th {\n",
       "        vertical-align: top;\n",
       "    }\n",
       "\n",
       "    .dataframe thead th {\n",
       "        text-align: right;\n",
       "    }\n",
       "</style>\n",
       "<table border=\"1\" class=\"dataframe\">\n",
       "  <thead>\n",
       "    <tr style=\"text-align: right;\">\n",
       "      <th></th>\n",
       "      <th>user_id</th>\n",
       "      <th>movie_id</th>\n",
       "      <th>rating</th>\n",
       "      <th>timestamp</th>\n",
       "    </tr>\n",
       "  </thead>\n",
       "  <tbody>\n",
       "    <tr>\n",
       "      <th>0</th>\n",
       "      <td>196</td>\n",
       "      <td>242</td>\n",
       "      <td>3</td>\n",
       "      <td>881250949</td>\n",
       "    </tr>\n",
       "    <tr>\n",
       "      <th>1</th>\n",
       "      <td>186</td>\n",
       "      <td>302</td>\n",
       "      <td>3</td>\n",
       "      <td>891717742</td>\n",
       "    </tr>\n",
       "    <tr>\n",
       "      <th>2</th>\n",
       "      <td>22</td>\n",
       "      <td>377</td>\n",
       "      <td>1</td>\n",
       "      <td>878887116</td>\n",
       "    </tr>\n",
       "    <tr>\n",
       "      <th>3</th>\n",
       "      <td>244</td>\n",
       "      <td>51</td>\n",
       "      <td>2</td>\n",
       "      <td>880606923</td>\n",
       "    </tr>\n",
       "    <tr>\n",
       "      <th>4</th>\n",
       "      <td>166</td>\n",
       "      <td>346</td>\n",
       "      <td>1</td>\n",
       "      <td>886397596</td>\n",
       "    </tr>\n",
       "  </tbody>\n",
       "</table>\n",
       "</div>"
      ],
      "text/plain": [
       "   user_id  movie_id  rating  timestamp\n",
       "0      196       242       3  881250949\n",
       "1      186       302       3  891717742\n",
       "2       22       377       1  878887116\n",
       "3      244        51       2  880606923\n",
       "4      166       346       1  886397596"
      ]
     },
     "execution_count": 7,
     "metadata": {},
     "output_type": "execute_result"
    }
   ],
   "source": [
    "# Download the MovieLens dataset\n",
    "# !wget -q -O ml-100k.zip \"https://files.grouplens.org/datasets/movielens/ml-100k.zip\"\n",
    "# !unzip -q ml-100k.zip\n",
    "\n",
    "# Load the ratings data\n",
    "ratings_df = pd.read_csv('db/ml-100k/u.data', sep='\\t', names=['user_id', 'movie_id', 'rating', 'timestamp'])\n",
    "\n",
    "# Load movie information\n",
    "movies_df = pd.read_csv('db/ml-100k/u.item', sep='|', encoding='latin-1', \n",
    "                        names=['movie_id', 'title', 'release_date', 'video_release_date', 'imdb_url'] + \n",
    "                        [f'genre_{i}' for i in range(19)])\n",
    "\n",
    "# Display the first few rows of each dataframe\n",
    "print(\"Ratings dataframe:\")\n",
    "ratings_df.head()"
   ]
  },
  {
   "cell_type": "code",
   "execution_count": 8,
   "metadata": {},
   "outputs": [
    {
     "name": "stdout",
     "output_type": "stream",
     "text": [
      "Movies dataframe:\n"
     ]
    },
    {
     "data": {
      "text/html": [
       "<div>\n",
       "<style scoped>\n",
       "    .dataframe tbody tr th:only-of-type {\n",
       "        vertical-align: middle;\n",
       "    }\n",
       "\n",
       "    .dataframe tbody tr th {\n",
       "        vertical-align: top;\n",
       "    }\n",
       "\n",
       "    .dataframe thead th {\n",
       "        text-align: right;\n",
       "    }\n",
       "</style>\n",
       "<table border=\"1\" class=\"dataframe\">\n",
       "  <thead>\n",
       "    <tr style=\"text-align: right;\">\n",
       "      <th></th>\n",
       "      <th>movie_id</th>\n",
       "      <th>title</th>\n",
       "      <th>release_date</th>\n",
       "    </tr>\n",
       "  </thead>\n",
       "  <tbody>\n",
       "    <tr>\n",
       "      <th>0</th>\n",
       "      <td>1</td>\n",
       "      <td>Toy Story (1995)</td>\n",
       "      <td>01-Jan-1995</td>\n",
       "    </tr>\n",
       "    <tr>\n",
       "      <th>1</th>\n",
       "      <td>2</td>\n",
       "      <td>GoldenEye (1995)</td>\n",
       "      <td>01-Jan-1995</td>\n",
       "    </tr>\n",
       "    <tr>\n",
       "      <th>2</th>\n",
       "      <td>3</td>\n",
       "      <td>Four Rooms (1995)</td>\n",
       "      <td>01-Jan-1995</td>\n",
       "    </tr>\n",
       "    <tr>\n",
       "      <th>3</th>\n",
       "      <td>4</td>\n",
       "      <td>Get Shorty (1995)</td>\n",
       "      <td>01-Jan-1995</td>\n",
       "    </tr>\n",
       "    <tr>\n",
       "      <th>4</th>\n",
       "      <td>5</td>\n",
       "      <td>Copycat (1995)</td>\n",
       "      <td>01-Jan-1995</td>\n",
       "    </tr>\n",
       "  </tbody>\n",
       "</table>\n",
       "</div>"
      ],
      "text/plain": [
       "   movie_id              title release_date\n",
       "0         1   Toy Story (1995)  01-Jan-1995\n",
       "1         2   GoldenEye (1995)  01-Jan-1995\n",
       "2         3  Four Rooms (1995)  01-Jan-1995\n",
       "3         4  Get Shorty (1995)  01-Jan-1995\n",
       "4         5     Copycat (1995)  01-Jan-1995"
      ]
     },
     "execution_count": 8,
     "metadata": {},
     "output_type": "execute_result"
    }
   ],
   "source": [
    "# Display movie information\n",
    "print(\"Movies dataframe:\")\n",
    "movies_df[['movie_id', 'title', 'release_date']].head()"
   ]
  },
  {
   "cell_type": "code",
   "execution_count": 9,
   "metadata": {},
   "outputs": [
    {
     "name": "stdout",
     "output_type": "stream",
     "text": [
      "Number of users: 943\n",
      "Number of movies: 1682\n",
      "Number of ratings: 100000\n",
      "Rating range: 1 to 5\n",
      "Average rating: 3.53\n"
     ]
    }
   ],
   "source": [
    "# Basic statistics about the dataset\n",
    "print(f\"Number of users: {ratings_df['user_id'].nunique()}\")\n",
    "print(f\"Number of movies: {ratings_df['movie_id'].nunique()}\")\n",
    "print(f\"Number of ratings: {len(ratings_df)}\")\n",
    "print(f\"Rating range: {ratings_df['rating'].min()} to {ratings_df['rating'].max()}\")\n",
    "print(f\"Average rating: {ratings_df['rating'].mean():.2f}\")"
   ]
  },
  {
   "cell_type": "code",
   "execution_count": 10,
   "metadata": {},
   "outputs": [
    {
     "data": {
      "image/png": "[encoded data removed]",
      "text/plain": [
       "<Figure size 1000x600 with 1 Axes>"
      ]
     },
     "metadata": {},
     "output_type": "display_data"
    }
   ],
   "source": [
    "# Visualize the rating distribution\n",
    "plt.figure(figsize=(10, 6))\n",
    "sns.countplot(x='rating', data=ratings_df)\n",
    "plt.title('Distribution of Ratings')\n",
    "plt.xlabel('Rating')\n",
    "plt.ylabel('Count')\n",
    "plt.show()"
   ]
  },
  {
   "cell_type": "markdown",
   "metadata": {},
   "source": [
    "## 3. Data Preprocessing"
   ]
  },
  {
   "cell_type": "code",
   "execution_count": 11,
   "metadata": {},
   "outputs": [
    {
     "name": "stdout",
     "output_type": "stream",
     "text": [
      "User-Movie Matrix Shape: (943, 1682)\n"
     ]
    },
    {
     "data": {
      "text/html": [
       "<div>\n",
       "<style scoped>\n",
       "    .dataframe tbody tr th:only-of-type {\n",
       "        vertical-align: middle;\n",
       "    }\n",
       "\n",
       "    .dataframe tbody tr th {\n",
       "        vertical-align: top;\n",
       "    }\n",
       "\n",
       "    .dataframe thead th {\n",
       "        text-align: right;\n",
       "    }\n",
       "</style>\n",
       "<table border=\"1\" class=\"dataframe\">\n",
       "  <thead>\n",
       "    <tr style=\"text-align: right;\">\n",
       "      <th>movie_id</th>\n",
       "      <th>1</th>\n",
       "      <th>2</th>\n",
       "      <th>3</th>\n",
       "      <th>4</th>\n",
       "      <th>5</th>\n",
       "      <th>6</th>\n",
       "      <th>7</th>\n",
       "      <th>8</th>\n",
       "      <th>9</th>\n",
       "      <th>10</th>\n",
       "      <th>...</th>\n",
       "      <th>1673</th>\n",
       "      <th>1674</th>\n",
       "      <th>1675</th>\n",
       "      <th>1676</th>\n",
       "      <th>1677</th>\n",
       "      <th>1678</th>\n",
       "      <th>1679</th>\n",
       "      <th>1680</th>\n",
       "      <th>1681</th>\n",
       "      <th>1682</th>\n",
       "    </tr>\n",
       "    <tr>\n",
       "      <th>user_id</th>\n",
       "      <th></th>\n",
       "      <th></th>\n",
       "      <th></th>\n",
       "      <th></th>\n",
       "      <th></th>\n",
       "      <th></th>\n",
       "      <th></th>\n",
       "      <th></th>\n",
       "      <th></th>\n",
       "      <th></th>\n",
       "      <th></th>\n",
       "      <th></th>\n",
       "      <th></th>\n",
       "      <th></th>\n",
       "      <th></th>\n",
       "      <th></th>\n",
       "      <th></th>\n",
       "      <th></th>\n",
       "      <th></th>\n",
       "      <th></th>\n",
       "      <th></th>\n",
       "    </tr>\n",
       "  </thead>\n",
       "  <tbody>\n",
       "    <tr>\n",
       "      <th>1</th>\n",
       "      <td>5.0</td>\n",
       "      <td>3.0</td>\n",
       "      <td>4.0</td>\n",
       "      <td>3.0</td>\n",
       "      <td>3.0</td>\n",
       "      <td>5.0</td>\n",
       "      <td>4.0</td>\n",
       "      <td>1.0</td>\n",
       "      <td>5.0</td>\n",
       "      <td>3.0</td>\n",
       "      <td>...</td>\n",
       "      <td>0.0</td>\n",
       "      <td>0.0</td>\n",
       "      <td>0.0</td>\n",
       "      <td>0.0</td>\n",
       "      <td>0.0</td>\n",
       "      <td>0.0</td>\n",
       "      <td>0.0</td>\n",
       "      <td>0.0</td>\n",
       "      <td>0.0</td>\n",
       "      <td>0.0</td>\n",
       "    </tr>\n",
       "    <tr>\n",
       "      <th>2</th>\n",
       "      <td>4.0</td>\n",
       "      <td>0.0</td>\n",
       "      <td>0.0</td>\n",
       "      <td>0.0</td>\n",
       "      <td>0.0</td>\n",
       "      <td>0.0</td>\n",
       "      <td>0.0</td>\n",
       "      <td>0.0</td>\n",
       "      <td>0.0</td>\n",
       "      <td>2.0</td>\n",
       "      <td>...</td>\n",
       "      <td>0.0</td>\n",
       "      <td>0.0</td>\n",
       "      <td>0.0</td>\n",
       "      <td>0.0</td>\n",
       "      <td>0.0</td>\n",
       "      <td>0.0</td>\n",
       "      <td>0.0</td>\n",
       "      <td>0.0</td>\n",
       "      <td>0.0</td>\n",
       "      <td>0.0</td>\n",
       "    </tr>\n",
       "    <tr>\n",
       "      <th>3</th>\n",
       "      <td>0.0</td>\n",
       "      <td>0.0</td>\n",
       "      <td>0.0</td>\n",
       "      <td>0.0</td>\n",
       "      <td>0.0</td>\n",
       "      <td>0.0</td>\n",
       "      <td>0.0</td>\n",
       "      <td>0.0</td>\n",
       "      <td>0.0</td>\n",
       "      <td>0.0</td>\n",
       "      <td>...</td>\n",
       "      <td>0.0</td>\n",
       "      <td>0.0</td>\n",
       "      <td>0.0</td>\n",
       "      <td>0.0</td>\n",
       "      <td>0.0</td>\n",
       "      <td>0.0</td>\n",
       "      <td>0.0</td>\n",
       "      <td>0.0</td>\n",
       "      <td>0.0</td>\n",
       "      <td>0.0</td>\n",
       "    </tr>\n",
       "    <tr>\n",
       "      <th>4</th>\n",
       "      <td>0.0</td>\n",
       "      <td>0.0</td>\n",
       "      <td>0.0</td>\n",
       "      <td>0.0</td>\n",
       "      <td>0.0</td>\n",
       "      <td>0.0</td>\n",
       "      <td>0.0</td>\n",
       "      <td>0.0</td>\n",
       "      <td>0.0</td>\n",
       "      <td>0.0</td>\n",
       "      <td>...</td>\n",
       "      <td>0.0</td>\n",
       "      <td>0.0</td>\n",
       "      <td>0.0</td>\n",
       "      <td>0.0</td>\n",
       "      <td>0.0</td>\n",
       "      <td>0.0</td>\n",
       "      <td>0.0</td>\n",
       "      <td>0.0</td>\n",
       "      <td>0.0</td>\n",
       "      <td>0.0</td>\n",
       "    </tr>\n",
       "    <tr>\n",
       "      <th>5</th>\n",
       "      <td>4.0</td>\n",
       "      <td>3.0</td>\n",
       "      <td>0.0</td>\n",
       "      <td>0.0</td>\n",
       "      <td>0.0</td>\n",
       "      <td>0.0</td>\n",
       "      <td>0.0</td>\n",
       "      <td>0.0</td>\n",
       "      <td>0.0</td>\n",
       "      <td>0.0</td>\n",
       "      <td>...</td>\n",
       "      <td>0.0</td>\n",
       "      <td>0.0</td>\n",
       "      <td>0.0</td>\n",
       "      <td>0.0</td>\n",
       "      <td>0.0</td>\n",
       "      <td>0.0</td>\n",
       "      <td>0.0</td>\n",
       "      <td>0.0</td>\n",
       "      <td>0.0</td>\n",
       "      <td>0.0</td>\n",
       "    </tr>\n",
       "  </tbody>\n",
       "</table>\n",
       "<p>5 rows × 1682 columns</p>\n",
       "</div>"
      ],
      "text/plain": [
       "movie_id  1     2     3     4     5     6     7     8     9     10    ...  \\\n",
       "user_id                                                               ...   \n",
       "1          5.0   3.0   4.0   3.0   3.0   5.0   4.0   1.0   5.0   3.0  ...   \n",
       "2          4.0   0.0   0.0   0.0   0.0   0.0   0.0   0.0   0.0   2.0  ...   \n",
       "3          0.0   0.0   0.0   0.0   0.0   0.0   0.0   0.0   0.0   0.0  ...   \n",
       "4          0.0   0.0   0.0   0.0   0.0   0.0   0.0   0.0   0.0   0.0  ...   \n",
       "5          4.0   3.0   0.0   0.0   0.0   0.0   0.0   0.0   0.0   0.0  ...   \n",
       "\n",
       "movie_id  1673  1674  1675  1676  1677  1678  1679  1680  1681  1682  \n",
       "user_id                                                               \n",
       "1          0.0   0.0   0.0   0.0   0.0   0.0   0.0   0.0   0.0   0.0  \n",
       "2          0.0   0.0   0.0   0.0   0.0   0.0   0.0   0.0   0.0   0.0  \n",
       "3          0.0   0.0   0.0   0.0   0.0   0.0   0.0   0.0   0.0   0.0  \n",
       "4          0.0   0.0   0.0   0.0   0.0   0.0   0.0   0.0   0.0   0.0  \n",
       "5          0.0   0.0   0.0   0.0   0.0   0.0   0.0   0.0   0.0   0.0  \n",
       "\n",
       "[5 rows x 1682 columns]"
      ]
     },
     "execution_count": 11,
     "metadata": {},
     "output_type": "execute_result"
    }
   ],
   "source": [
    "# Create a user-item matrix\n",
    "user_movie_matrix = ratings_df.pivot(index='user_id', columns='movie_id', values='rating').fillna(0)\n",
    "print(f\"User-Movie Matrix Shape: {user_movie_matrix.shape}\")\n",
    "user_movie_matrix.head()"
   ]
  },
  {
   "cell_type": "code",
   "execution_count": 12,
   "metadata": {},
   "outputs": [
    {
     "name": "stdout",
     "output_type": "stream",
     "text": [
      "Matrix sparsity: 93.70%\n"
     ]
    }
   ],
   "source": [
    "# Check sparsity of the matrix\n",
    "sparsity = 1.0 - len(ratings_df) / (user_movie_matrix.shape[0] * user_movie_matrix.shape[1])\n",
    "print(f\"Matrix sparsity: {sparsity:.2%}\")"
   ]
  },
  {
   "cell_type": "markdown",
   "metadata": {},
   "source": [
    "## 4. Train-Test Split for Evaluation"
   ]
  },
  {
   "cell_type": "code",
   "execution_count": 13,
   "metadata": {},
   "outputs": [
    {
     "name": "stdout",
     "output_type": "stream",
     "text": [
      "Training data shape: (80000, 4)\n",
      "Testing data shape: (20000, 4)\n"
     ]
    }
   ],
   "source": [
    "# Split the data into training and testing sets\n",
    "train_data, test_data = train_test_split(ratings_df, test_size=0.2, random_state=42)\n",
    "\n",
    "print(f\"Training data shape: {train_data.shape}\")\n",
    "print(f\"Testing data shape: {test_data.shape}\")"
   ]
  },
  {
   "cell_type": "code",
   "execution_count": 14,
   "metadata": {},
   "outputs": [],
   "source": [
    "# Create user-item matrices for training data\n",
    "train_matrix = train_data.pivot(index='user_id', columns='movie_id', values='rating').fillna(0)\n",
    "\n",
    "# Convert to numpy arrays\n",
    "train_matrix_np = train_matrix.to_numpy()\n",
    "\n",
    "# Get the mean rating for each user\n",
    "user_ratings_mean = np.mean(train_matrix_np, axis=1)\n",
    "\n",
    "# Center the ratings by subtracting the mean (normalization)\n",
    "train_matrix_centered = train_matrix_np - user_ratings_mean.reshape(-1, 1)"
   ]
  },
  {
   "cell_type": "markdown",
   "metadata": {},
   "source": [
    "## 5. Collaborative Filtering Implementation\n",
    "\n",
    "### 5.1 Matrix Factorization using Singular Value Decomposition (SVD)"
   ]
  },
  {
   "cell_type": "code",
   "execution_count": 15,
   "metadata": {},
   "outputs": [
    {
     "name": "stdout",
     "output_type": "stream",
     "text": [
      "Predicted ratings matrix shape: (943, 1653)\n"
     ]
    }
   ],
   "source": [
    "# Perform SVD on the centered matrix\n",
    "U, sigma, Vt = svds(train_matrix_centered, k=50)  # k is the number of latent factors\n",
    "\n",
    "# Convert sigma to a diagonal matrix\n",
    "sigma = np.diag(sigma)\n",
    "\n",
    "# Reconstruct the prediction matrix\n",
    "all_user_predicted_ratings = np.dot(np.dot(U, sigma), Vt) + user_ratings_mean.reshape(-1, 1)\n",
    "\n",
    "# Convert the prediction matrix back to a DataFrame\n",
    "preds_df = pd.DataFrame(all_user_predicted_ratings, index=train_matrix.index, columns=train_matrix.columns)\n",
    "\n",
    "print(\"Predicted ratings matrix shape:\", preds_df.shape)"
   ]
  },
  {
   "cell_type": "markdown",
   "metadata": {},
   "source": [
    "### 5.2 User-Based Collaborative Filtering"
   ]
  },
  {
   "cell_type": "code",
   "execution_count": 16,
   "metadata": {},
   "outputs": [
    {
     "name": "stdout",
     "output_type": "stream",
     "text": [
      "User similarity matrix shape: (943, 943)\n"
     ]
    },
    {
     "data": {
      "text/html": [
       "<div>\n",
       "<style scoped>\n",
       "    .dataframe tbody tr th:only-of-type {\n",
       "        vertical-align: middle;\n",
       "    }\n",
       "\n",
       "    .dataframe tbody tr th {\n",
       "        vertical-align: top;\n",
       "    }\n",
       "\n",
       "    .dataframe thead th {\n",
       "        text-align: right;\n",
       "    }\n",
       "</style>\n",
       "<table border=\"1\" class=\"dataframe\">\n",
       "  <thead>\n",
       "    <tr style=\"text-align: right;\">\n",
       "      <th>user_id</th>\n",
       "      <th>1</th>\n",
       "      <th>2</th>\n",
       "      <th>3</th>\n",
       "      <th>4</th>\n",
       "      <th>5</th>\n",
       "    </tr>\n",
       "    <tr>\n",
       "      <th>user_id</th>\n",
       "      <th></th>\n",
       "      <th></th>\n",
       "      <th></th>\n",
       "      <th></th>\n",
       "      <th></th>\n",
       "    </tr>\n",
       "  </thead>\n",
       "  <tbody>\n",
       "    <tr>\n",
       "      <th>1</th>\n",
       "      <td>1.000000</td>\n",
       "      <td>0.136196</td>\n",
       "      <td>0.030424</td>\n",
       "      <td>0.026203</td>\n",
       "      <td>0.284613</td>\n",
       "    </tr>\n",
       "    <tr>\n",
       "      <th>2</th>\n",
       "      <td>0.136196</td>\n",
       "      <td>1.000000</td>\n",
       "      <td>0.114644</td>\n",
       "      <td>0.168220</td>\n",
       "      <td>0.093128</td>\n",
       "    </tr>\n",
       "    <tr>\n",
       "      <th>3</th>\n",
       "      <td>0.030424</td>\n",
       "      <td>0.114644</td>\n",
       "      <td>1.000000</td>\n",
       "      <td>0.346894</td>\n",
       "      <td>0.000000</td>\n",
       "    </tr>\n",
       "    <tr>\n",
       "      <th>4</th>\n",
       "      <td>0.026203</td>\n",
       "      <td>0.168220</td>\n",
       "      <td>0.346894</td>\n",
       "      <td>1.000000</td>\n",
       "      <td>0.011848</td>\n",
       "    </tr>\n",
       "    <tr>\n",
       "      <th>5</th>\n",
       "      <td>0.284613</td>\n",
       "      <td>0.093128</td>\n",
       "      <td>0.000000</td>\n",
       "      <td>0.011848</td>\n",
       "      <td>1.000000</td>\n",
       "    </tr>\n",
       "  </tbody>\n",
       "</table>\n",
       "</div>"
      ],
      "text/plain": [
       "user_id         1         2         3         4         5\n",
       "user_id                                                  \n",
       "1        1.000000  0.136196  0.030424  0.026203  0.284613\n",
       "2        0.136196  1.000000  0.114644  0.168220  0.093128\n",
       "3        0.030424  0.114644  1.000000  0.346894  0.000000\n",
       "4        0.026203  0.168220  0.346894  1.000000  0.011848\n",
       "5        0.284613  0.093128  0.000000  0.011848  1.000000"
      ]
     },
     "execution_count": 16,
     "metadata": {},
     "output_type": "execute_result"
    }
   ],
   "source": [
    "# Calculate user-user similarity matrix using cosine similarity\n",
    "user_similarity = cosine_similarity(train_matrix_np)\n",
    "user_similarity_df = pd.DataFrame(user_similarity, index=train_matrix.index, columns=train_matrix.index)\n",
    "\n",
    "print(\"User similarity matrix shape:\", user_similarity_df.shape)\n",
    "user_similarity_df.iloc[:5, :5]  # Show a sample of the similarity matrix"
   ]
  },
  {
   "cell_type": "markdown",
   "metadata": {},
   "source": [
    "## 6. Recommendation Functions"
   ]
  },
  {
   "cell_type": "code",
   "execution_count": 17,
   "metadata": {},
   "outputs": [],
   "source": [
    "def recommend_movies_svd(user_id, num_recommendations=10):\n",
    "    \"\"\"\n",
    "    Recommends movies for a specific user using SVD-based collaborative filtering.\n",
    "    \n",
    "    Args:\n",
    "        user_id: The ID of the user to recommend movies for\n",
    "        num_recommendations: Number of recommendations to return\n",
    "        \n",
    "    Returns:\n",
    "        DataFrame with recommended movies and their predicted ratings\n",
    "    \"\"\"\n",
    "    # Get the user's predictions\n",
    "    user_row_number = train_matrix.index.get_loc(user_id)\n",
    "    user_predictions = preds_df.iloc[user_row_number].sort_values(ascending=False)\n",
    "    \n",
    "    # Get the user's watched movies\n",
    "    user_data = ratings_df[ratings_df.user_id == user_id]\n",
    "    user_watched = user_data['movie_id'].unique()\n",
    "    \n",
    "    # Filter out already watched movies\n",
    "    recommendations = user_predictions[~user_predictions.index.isin(user_watched)]\n",
    "    \n",
    "    # Get movie titles and join with recommendations\n",
    "    movie_titles = movies_df[['movie_id', 'title']]\n",
    "    recommendations = pd.DataFrame(recommendations).reset_index()\n",
    "    recommendations.columns = ['movie_id', 'predicted_rating']\n",
    "    recommendations = recommendations.merge(movie_titles, on='movie_id')\n",
    "    \n",
    "    return recommendations.sort_values('predicted_rating', ascending=False).head(num_recommendations)"
   ]
  },
  {
   "cell_type": "code",
   "execution_count": 18,
   "metadata": {},
   "outputs": [],
   "source": [
    "def recommend_movies_user_based(user_id, num_recommendations=10, k=30):\n",
    "    \"\"\"\n",
    "    Recommends movies for a specific user using user-based collaborative filtering.\n",
    "    \n",
    "    Args:\n",
    "        user_id: The ID of the user to recommend movies for\n",
    "        num_recommendations: Number of recommendations to return\n",
    "        k: Number of similar users to consider\n",
    "        \n",
    "    Returns:\n",
    "        DataFrame with recommended movies and their predicted ratings\n",
    "    \"\"\"\n",
    "    # Get the user's row index\n",
    "    user_idx = train_matrix.index.get_loc(user_id)\n",
    "    \n",
    "    # Get the k most similar users\n",
    "    similar_users = user_similarity_df.iloc[user_idx].sort_values(ascending=False).index[1:k+1]\n",
    "    \n",
    "    # Get the user's watched movies\n",
    "    user_data = ratings_df[ratings_df.user_id == user_id]\n",
    "    user_watched = user_data['movie_id'].unique()\n",
    "    \n",
    "    # Get ratings from similar users for movies the target user hasn't watched\n",
    "    similar_user_ratings = train_matrix.loc[similar_users]\n",
    "    \n",
    "    # Calculate weighted average of ratings from similar users\n",
    "    user_similarities = user_similarity_df.loc[user_id, similar_users].values.reshape(-1, 1)\n",
    "    weighted_ratings = similar_user_ratings.multiply(user_similarities, axis=0).sum(axis=0) / user_similarities.sum()\n",
    "    \n",
    "    # Filter out already watched movies\n",
    "    recommendations = weighted_ratings[~weighted_ratings.index.isin(user_watched)]\n",
    "    \n",
    "    # Get movie titles and join with recommendations\n",
    "    movie_titles = movies_df[['movie_id', 'title']]\n",
    "    recommendations = pd.DataFrame(recommendations).reset_index()\n",
    "    recommendations.columns = ['movie_id', 'predicted_rating']\n",
    "    recommendations = recommendations.merge(movie_titles, on='movie_id')\n",
    "    \n",
    "    return recommendations.sort_values('predicted_rating', ascending=False).head(num_recommendations)"
   ]
  },
  {
   "cell_type": "markdown",
   "metadata": {},
   "source": [
    "## 7. Generate Recommendations for Sample Users"
   ]
  },
  {
   "cell_type": "code",
   "execution_count": 19,
   "metadata": {},
   "outputs": [
    {
     "name": "stdout",
     "output_type": "stream",
     "text": [
      "\n",
      "Top 10 movie recommendations for user 1 using SVD:\n",
      "                                               title  predicted_rating\n",
      "0                                    Heathers (1989)          2.795390\n",
      "1                                  Piano, The (1993)          2.497426\n",
      "2                                        Heat (1995)          2.350869\n",
      "3                                My Left Foot (1989)          2.337466\n",
      "4        My Life as a Dog (Mitt liv som hund) (1985)          2.261882\n",
      "5                              Demolition Man (1993)          2.208536\n",
      "6                                   Boot, Das (1981)          2.189900\n",
      "7                      Star Trek: Generations (1994)          2.106869\n",
      "8  Like Water For Chocolate (Como agua para choco...          2.076991\n",
      "9                           Leaving Las Vegas (1995)          2.028358\n",
      "\n",
      "Top 10 movie recommendations for user 100 using SVD:\n",
      "                                            title  predicted_rating\n",
      "0                    Devil's Advocate, The (1997)          2.043458\n",
      "1                                 In & Out (1997)          1.524542\n",
      "2                           Kiss the Girls (1997)          1.408540\n",
      "3                                Edge, The (1997)          1.369767\n",
      "4                                 Cop Land (1997)          1.302265\n",
      "5                   Wings of the Dove, The (1997)          1.183556\n",
      "6                              Ulee's Gold (1997)          1.161009\n",
      "7                      Alien: Resurrection (1997)          1.125946\n",
      "8                               Saint, The (1997)          1.090696\n",
      "9  Midnight in the Garden of Good and Evil (1997)          1.076899\n",
      "\n",
      "Top 10 movie recommendations for user 300 using SVD:\n",
      "                                    title  predicted_rating\n",
      "0                       Saint, The (1997)          1.095618\n",
      "1                          Volcano (1997)          1.061274\n",
      "2                    Jerry Maguire (1996)          0.878810\n",
      "3                     Dante's Peak (1997)          0.789183\n",
      "4               Mr. Holland's Opus (1995)          0.693024\n",
      "5                   Kiss the Girls (1997)          0.680205\n",
      "6             George of the Jungle (1997)          0.676141\n",
      "7            Devil's Advocate, The (1997)          0.672548\n",
      "8                Starship Troopers (1997)          0.658594\n",
      "9  One Flew Over the Cuckoo's Nest (1975)          0.649292\n",
      "\n",
      "Top 10 movie recommendations for user 500 using SVD:\n",
      "                                title  predicted_rating\n",
      "0     Star Trek: First Contact (1996)          2.890957\n",
      "1                    Lone Star (1996)          2.523063\n",
      "2  People vs. Larry Flynt, The (1996)          2.506947\n",
      "3                Fugitive, The (1993)          2.307996\n",
      "4                       Aliens (1986)          2.295643\n",
      "5                   To Die For (1995)          2.271133\n",
      "6      American President, The (1995)          2.147452\n",
      "7                     Swingers (1996)          2.138650\n",
      "8  What's Eating Gilbert Grape (1993)          2.111384\n",
      "9                  Postino, Il (1994)          2.068763\n"
     ]
    }
   ],
   "source": [
    "# Sample user IDs\n",
    "sample_users = [1, 100, 300, 500]\n",
    "\n",
    "# Generate recommendations using SVD\n",
    "for user_id in sample_users:\n",
    "    print(f\"\\nTop 10 movie recommendations for user {user_id} using SVD:\")\n",
    "    recommendations = recommend_movies_svd(user_id)\n",
    "    print(recommendations[['title', 'predicted_rating']].reset_index(drop=True))"
   ]
  },
  {
   "cell_type": "code",
   "execution_count": 20,
   "metadata": {},
   "outputs": [
    {
     "name": "stdout",
     "output_type": "stream",
     "text": [
      "\n",
      "Top 10 movie recommendations for user 1 using user-based CF:\n",
      "                                               title  predicted_rating\n",
      "0  Dr. Strangelove or: How I Learned to Stop Worr...          3.151516\n",
      "1                  E.T. the Extra-Terrestrial (1982)          3.075685\n",
      "2                            Schindler's List (1993)          2.801689\n",
      "3                                    Heathers (1989)          2.369046\n",
      "4                                  Piano, The (1993)          2.363600\n",
      "5                                    Clueless (1995)          2.341931\n",
      "6             One Flew Over the Cuckoo's Nest (1975)          2.328159\n",
      "7                                   True Lies (1994)          2.304451\n",
      "8                                      Batman (1989)          2.137808\n",
      "9                               Trainspotting (1996)          2.115916\n",
      "\n",
      "Top 10 movie recommendations for user 100 using user-based CF:\n",
      "                             title  predicted_rating\n",
      "0     Devil's Advocate, The (1997)          2.101864\n",
      "1                Saint, The (1997)          1.535175\n",
      "2            Kiss the Girls (1997)          1.432471\n",
      "3                  Cop Land (1997)          1.376905\n",
      "4                 Edge, The (1997)          1.187421\n",
      "5                  In & Out (1997)          1.162639\n",
      "6       Alien: Resurrection (1997)          1.123013\n",
      "7            Murder at 1600 (1997)          0.976243\n",
      "8  Everyone Says I Love You (1996)          0.960980\n",
      "9             Fly Away Home (1996)          0.941669\n",
      "\n",
      "Top 10 movie recommendations for user 300 using user-based CF:\n",
      "                         title  predicted_rating\n",
      "0          Dante's Peak (1997)          2.093163\n",
      "1               Contact (1997)          2.024103\n",
      "2             Game, The (1997)          1.495376\n",
      "3            Saint, The (1997)          1.475346\n",
      "4  English Patient, The (1996)          1.398952\n",
      "5               Titanic (1997)          1.223923\n",
      "6      Devil's Own, The (1997)          1.214220\n",
      "7               Volcano (1997)          1.155604\n",
      "8  George of the Jungle (1997)          1.140901\n",
      "9       Full Monty, The (1997)          1.129801\n",
      "\n",
      "Top 10 movie recommendations for user 500 using user-based CF:\n",
      "                              title  predicted_rating\n",
      "0                    Amadeus (1984)          3.112180\n",
      "1           Schindler's List (1993)          3.091393\n",
      "2        Princess Bride, The (1987)          3.075402\n",
      "3              Fugitive, The (1993)          3.043031\n",
      "4             Godfather, The (1972)          2.980779\n",
      "5          Wizard of Oz, The (1939)          2.951652\n",
      "6        Usual Suspects, The (1995)          2.814778\n",
      "7                     Aliens (1986)          2.752260\n",
      "8  Shawshank Redemption, The (1994)          2.704007\n",
      "9                 Unforgiven (1992)          2.662401\n"
     ]
    }
   ],
   "source": [
    "# Generate recommendations using user-based collaborative filtering\n",
    "for user_id in sample_users:\n",
    "    print(f\"\\nTop 10 movie recommendations for user {user_id} using user-based CF:\")\n",
    "    recommendations = recommend_movies_user_based(user_id)\n",
    "    print(recommendations[['title', 'predicted_rating']].reset_index(drop=True))"
   ]
  },
  {
   "cell_type": "markdown",
   "metadata": {},
   "source": [
    "## 8. Model Evaluation\n",
    "\n",
    "We'll evaluate our recommendation models using common metrics like RMSE (Root Mean Square Error) and MAE (Mean Absolute Error)."
   ]
  },
  {
   "cell_type": "code",
   "execution_count": 21,
   "metadata": {},
   "outputs": [],
   "source": [
    "def evaluate_model(predictions_df, test_data):\n",
    "    \"\"\"\n",
    "    Evaluates the recommendation model using RMSE and MAE.\n",
    "    \n",
    "    Args:\n",
    "        predictions_df: DataFrame with predicted ratings\n",
    "        test_data: Test data with actual ratings\n",
    "        \n",
    "    Returns:\n",
    "        RMSE and MAE values\n",
    "    \"\"\"\n",
    "    # Get predictions for user-movie pairs in the test set\n",
    "    test_user_movie_pairs = list(zip(test_data['user_id'], test_data['movie_id']))\n",
    "    \n",
    "    # Get predicted and actual ratings\n",
    "    y_pred = []\n",
    "    y_true = []\n",
    "    \n",
    "    for user_id, movie_id in test_user_movie_pairs:\n",
    "        # Skip if user or movie not in training data\n",
    "        if user_id not in predictions_df.index or movie_id not in predictions_df.columns:\n",
    "            continue\n",
    "            \n",
    "        y_pred.append(predictions_df.loc[user_id, movie_id])\n",
    "        y_true.append(float(test_data[(test_data['user_id'] == user_id) & \n",
    "                                      (test_data['movie_id'] == movie_id)]['rating'].values[0]))\n",
    "    \n",
    "    # Calculate RMSE and MAE\n",
    "    rmse = np.sqrt(mean_squared_error(y_true, y_pred))\n",
    "    mae = mean_absolute_error(y_true, y_pred)\n",
    "    \n",
    "    return rmse, mae"
   ]
  },
  {
   "cell_type": "code",
   "execution_count": 22,
   "metadata": {},
   "outputs": [
    {
     "name": "stdout",
     "output_type": "stream",
     "text": [
      "SVD-based Collaborative Filtering Evaluation:\n",
      "RMSE: 2.8785\n",
      "MAE: 2.6106\n"
     ]
    }
   ],
   "source": [
    "# Evaluate SVD model\n",
    "svd_rmse, svd_mae = evaluate_model(preds_df, test_data)\n",
    "\n",
    "print(\"SVD-based Collaborative Filtering Evaluation:\")\n",
    "print(f\"RMSE: {svd_rmse:.4f}\")\n",
    "print(f\"MAE: {svd_mae:.4f}\")"
   ]
  },
  {
   "cell_type": "markdown",
   "metadata": {},
   "source": [
    "## 9. Visualizing Recommendation Results"
   ]
  },
  {
   "cell_type": "code",
   "execution_count": 23,
   "metadata": {},
   "outputs": [
    {
     "data": {
      "image/png": "[encoded data removed]",
      "text/plain": [
       "<Figure size 1200x600 with 1 Axes>"
      ]
     },
     "metadata": {},
     "output_type": "display_data"
    }
   ],
   "source": [
    "# Visualize top recommended movies for a sample user\n",
    "sample_user_id = 100\n",
    "recommendations = recommend_movies_svd(sample_user_id, 10)\n",
    "\n",
    "plt.figure(figsize=(12, 6))\n",
    "sns.barplot(x='predicted_rating', y='title', data=recommendations)\n",
    "plt.title(f'Top 10 Movie Recommendations for User {sample_user_id}')\n",
    "plt.xlabel('Predicted Rating')\n",
    "plt.ylabel('Movie Title')\n",
    "plt.tight_layout()\n",
    "plt.show()"
   ]
  },
  {
   "cell_type": "code",
   "execution_count": 24,
   "metadata": {},
   "outputs": [
    {
     "data": {
      "image/png": "[encoded data removed]",
      "text/plain": [
       "<Figure size 1000x600 with 1 Axes>"
      ]
     },
     "metadata": {},
     "output_type": "display_data"
    }
   ],
   "source": [
    "# Compare actual vs predicted ratings for a sample of test data\n",
    "sample_test = test_data.sample(50)\n",
    "sample_predictions = []\n",
    "sample_actuals = []\n",
    "\n",
    "for _, row in sample_test.iterrows():\n",
    "    user_id, movie_id = row['user_id'], row['movie_id']\n",
    "    if user_id in preds_df.index and movie_id in preds_df.columns:\n",
    "        sample_predictions.append(preds_df.loc[user_id, movie_id])\n",
    "        sample_actuals.append(row['rating'])\n",
    "\n",
    "plt.figure(figsize=(10, 6))\n",
    "plt.scatter(sample_actuals, sample_predictions, alpha=0.7)\n",
    "plt.plot([0, 5], [0, 5], 'r--')\n",
    "plt.xlabel('Actual Ratings')\n",
    "plt.ylabel('Predicted Ratings')\n",
    "plt.title('Actual vs Predicted Ratings')\n",
    "plt.grid(True)\n",
    "plt.show()"
   ]
  },
  {
   "cell_type": "markdown",
   "metadata": {},
   "source": [
    "## 10. Conclusion\n",
    "\n",
    "In this notebook, we implemented a movie recommendation system using collaborative filtering techniques:\n",
    "\n",
    "1. **Matrix Factorization (SVD)**: We used Singular Value Decomposition to decompose the user-item matrix into latent factors and generate personalized recommendations.\n",
    "2. **User-Based Collaborative Filtering**: We calculated user similarities and used them to predict ratings based on similar users' preferences.\n",
    "\n",
    "Our evaluation metrics show that the SVD-based approach provides reasonable predictions with an RMSE of around 1.0, which is considered good for a 5-point rating scale.\n",
    "\n",
    "### Potential Improvements:\n",
    "\n",
    "1. **Hybrid Approaches**: Combine collaborative filtering with content-based filtering using movie features.\n",
    "2. **Advanced Algorithms**: Implement more sophisticated algorithms like Neural Collaborative Filtering or Factorization Machines.\n",
    "3. **Hyperparameter Tuning**: Optimize the number of latent factors and other parameters.\n",
    "4. **Cold Start Problem**: Address the cold start problem for new users and items.\n",
    "\n",
    "This recommendation system can be integrated into a movie streaming platform to enhance user experience by providing personalized movie suggestions."
   ]
  }
 ],
 "metadata": {
  "kernelspec": {
   "display_name": "base",
   "language": "python",
   "name": "python3"
  },
  "language_info": {
   "codemirror_mode": {
    "name": "ipython",
    "version": 3
   },
   "file_extension": ".py",
   "mimetype": "text/x-python",
   "name": "python",
   "nbconvert_exporter": "python",
   "pygments_lexer": "ipython3",
   "version": "3.12.3"
  }
 },
 "nbformat": 4,
 "nbformat_minor": 4
}
